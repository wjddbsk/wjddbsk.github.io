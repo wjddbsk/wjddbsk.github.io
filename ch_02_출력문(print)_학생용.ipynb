{
  "nbformat": 4,
  "nbformat_minor": 0,
  "metadata": {
    "language_info": {
      "name": "python",
      "version": "3.7.6",
      "mimetype": "text/x-python",
      "codemirror_mode": {
        "name": "ipython",
        "version": 3
      },
      "pygments_lexer": "ipython3",
      "nbconvert_exporter": "python",
      "file_extension": ".py"
    },
    "kernelspec": {
      "name": "python3",
      "display_name": "Python 3",
      "language": "python"
    },
    "colab": {
      "name": "ch#02_출력문(print)_학생용.ipynb",
      "provenance": [],
      "include_colab_link": true
    }
  },
  "cells": [
    {
      "cell_type": "markdown",
      "metadata": {
        "id": "view-in-github",
        "colab_type": "text"
      },
      "source": [
        "<a href=\"https://colab.research.google.com/github/wjddbsk/wjddbsk.github.io/blob/master/ch_02_%E1%84%8E%E1%85%AE%E1%86%AF%E1%84%85%E1%85%A7%E1%86%A8%E1%84%86%E1%85%AE%E1%86%AB(print)_%E1%84%92%E1%85%A1%E1%86%A8%E1%84%89%E1%85%A2%E1%86%BC%E1%84%8B%E1%85%AD%E1%86%BC.ipynb\" target=\"_parent\"><img src=\"https://colab.research.google.com/assets/colab-badge.svg\" alt=\"Open In Colab\"/></a>"
      ]
    },
    {
      "cell_type": "markdown",
      "metadata": {
        "id": "oibSRsClG_rT"
      },
      "source": [
        "* ## C의 print문\n",
        "```python\n",
        "#include <stdio.h>\n",
        "void main(void)  {\n",
        "    printf(\"Hello, World\");\n",
        "}\n",
        "```  \n",
        "\n",
        "* ##  JAVA의 print문\n",
        "\n",
        "~~~java\n",
        "public class HelloWorld {\n",
        "    public static void main(String[] args) {\n",
        "        System.out.println(\"Hello, World\");\n",
        "    }\n",
        "\n",
        "}\n",
        "~~~\n",
        "\n",
        "* ##  Python의 print 문  \n",
        "~~~python\n",
        "print('Hello, World')\n",
        "~~~\n",
        "\n",
        "<hr>  \n",
        "\n",
        "<font size=6 color=red><b> Life is too short, You need Python!! </b></font>"
      ]
    },
    {
      "cell_type": "code",
      "metadata": {
        "id": "9o2_8RKmLuj2",
        "outputId": "4f9db126-1c34-4984-80fd-6693a816ef4c",
        "colab": {
          "base_uri": "https://localhost:8080/"
        }
      },
      "source": [
        "print('Hello, World')"
      ],
      "execution_count": 7,
      "outputs": [
        {
          "output_type": "stream",
          "text": [
            "Hello, World\n"
          ],
          "name": "stdout"
        }
      ]
    },
    {
      "cell_type": "code",
      "metadata": {
        "id": "WqWlPZ5uG_rm"
      },
      "source": [
        "help(print)"
      ],
      "execution_count": null,
      "outputs": []
    },
    {
      "cell_type": "markdown",
      "metadata": {
        "id": "8t7FkZLNG_rq"
      },
      "source": [
        "# print() 사용법\n",
        "\n",
        "* print(출력할 내용)  : 내용을 출력 후 개행(줄바꿈)한다\n",
        "* 값(value)출력  \n",
        "~~~python\n",
        "print(1)  \n",
        "print(\"hafs\")  \n",
        "print(1+3)  \n",
        "print(1,2,3)  \n",
        "print(\"a\",\"b\")  \n",
        "~~~\n",
        "\n",
        "\n",
        "* 변수(variable)출력  \n",
        "~~~python\n",
        "print(name)  \n",
        "~~~\n"
      ]
    },
    {
      "cell_type": "code",
      "metadata": {
        "trusted": true,
        "id": "uvCgL4rUG_rr",
        "outputId": "6fab3cfe-f697-44d7-bba9-e382a73e4bb7"
      },
      "source": [
        "#여러 값(value)의 print(출력)\n",
        "\n",
        "print('python')"
      ],
      "execution_count": null,
      "outputs": [
        {
          "output_type": "stream",
          "text": [
            "python\n"
          ],
          "name": "stdout"
        }
      ]
    },
    {
      "cell_type": "code",
      "metadata": {
        "id": "I1bFs_5uG_rx",
        "outputId": "20f3d73f-81d9-4f8c-8f50-84d84931c044",
        "colab": {
          "base_uri": "https://localhost:8080/"
        }
      },
      "source": [
        "# 변수 출력\n",
        "\n",
        "name='정유나'\n",
        "print(name) #1\n",
        "print('name') #2\n",
        "#print(school)"
      ],
      "execution_count": 1,
      "outputs": [
        {
          "output_type": "stream",
          "text": [
            "정유나\n",
            "name\n"
          ],
          "name": "stdout"
        }
      ]
    },
    {
      "cell_type": "code",
      "metadata": {
        "id": "DYBCpT28G_rx",
        "outputId": "90ecf416-1c1a-4bc5-d3a3-6563d4b9155e",
        "colab": {
          "base_uri": "https://localhost:8080/"
        }
      },
      "source": [
        "# 출력할 변수가 여러개 일때\n",
        "\n",
        "name='Jeong'\n",
        "age=18\n",
        "print(name,age)"
      ],
      "execution_count": 2,
      "outputs": [
        {
          "output_type": "stream",
          "text": [
            "Jeong 18\n"
          ],
          "name": "stdout"
        }
      ]
    },
    {
      "cell_type": "code",
      "metadata": {
        "id": "_A8LfchgJdLI",
        "outputId": "7b9ae3c8-77d4-43ec-cffe-b0f04faaa1e8",
        "colab": {
          "base_uri": "https://localhost:8080/"
        }
      },
      "source": [
        "address='hafs'\n",
        "print(address)"
      ],
      "execution_count": 4,
      "outputs": [
        {
          "output_type": "stream",
          "text": [
            "hafs\n"
          ],
          "name": "stdout"
        }
      ]
    },
    {
      "cell_type": "markdown",
      "metadata": {
        "id": "xFYIMQvpG_rz"
      },
      "source": [
        "## <font color=blue>f-string 방식 </font>\n",
        "\n",
        "- python 3.6 이상부터 사용가능.  \n",
        "- 간편하고 강력함. "
      ]
    },
    {
      "cell_type": "code",
      "metadata": {
        "id": "59LJJ7hxG_rz",
        "outputId": "a2c1171d-d37f-41ef-c3f3-7e884ebcf2cc",
        "colab": {
          "base_uri": "https://localhost:8080/"
        }
      },
      "source": [
        "# f-string 예제 #1\n",
        "\n",
        "name= 'Yuna'\n",
        "\n",
        "print(f'')\n",
        "\n",
        "print(f'Hello {name}')"
      ],
      "execution_count": 5,
      "outputs": [
        {
          "output_type": "stream",
          "text": [
            "\n",
            "Hello Yuna\n"
          ],
          "name": "stdout"
        }
      ]
    },
    {
      "cell_type": "code",
      "metadata": {
        "id": "6hE3etI4G_r0",
        "outputId": "1754dadf-76b7-453c-da90-acbc65bb6aa1",
        "colab": {
          "base_uri": "https://localhost:8080/"
        }
      },
      "source": [
        "# f-string 예제 #2\n",
        "\n",
        "a = 2\n",
        "b = 3\n",
        "\n",
        "print(f'sum: {a+b}')\n"
      ],
      "execution_count": 6,
      "outputs": [
        {
          "output_type": "stream",
          "text": [
            "sum: 5\n"
          ],
          "name": "stdout"
        }
      ]
    },
    {
      "cell_type": "markdown",
      "metadata": {
        "id": "_4SjSdGyOv-H"
      },
      "source": [
        "# Quiz 🎯"
      ]
    },
    {
      "cell_type": "markdown",
      "metadata": {
        "id": "lDMWaF5bG_r1"
      },
      "source": [
        "### 1. 다음 print()의 실행 결과를 예상하고 오류일시 이유를 설명하시오.\n",
        "\n",
        "~~~python\n",
        "print(1,3)\n",
        "print(1 3)\n",
        "print('a', 1+3)\n",
        "print(a)\n",
        "print('hafs','python',end='')\n",
        "print('hafs','python',sep='\\')\n",
        "print('hafs','python',sep='/')\n",
        "print('\\\\\\\\')\n",
        "~~~\n"
      ]
    }
  ]
}